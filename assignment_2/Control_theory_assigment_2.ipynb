{
  "nbformat": 4,
  "nbformat_minor": 0,
  "metadata": {
    "colab": {
      "provenance": []
    },
    "kernelspec": {
      "name": "python3",
      "display_name": "Python 3"
    },
    "language_info": {
      "name": "python"
    }
  },
  "cells": [
    {
      "cell_type": "markdown",
      "source": [
        "# Task\n",
        "\n",
        "Given a system:\n",
        "\n",
        "<!-- A =\n",
        "    [0 0 1 0;\n",
        "     0 0 0 1;\n",
        "     n -2 -10/n -2;\n",
        "     -5 -n/10 0 -3]; -->\n",
        "\n",
        "$$\n",
        "\\begin{cases}\n",
        "\\dot x =\n",
        "\\begin{bmatrix}\n",
        "0 & 0 & 1 & 0 \\\\\n",
        "0 & 0 & 0 & 1 \\\\\n",
        " 10 & -2 & -1 & -2 \\\\\n",
        "-5 & -1 & 0 & -3\n",
        "\\end{bmatrix}\n",
        "x\n",
        "+\n",
        "\\begin{bmatrix}\n",
        "0 \\\\\n",
        "0 \\\\\n",
        "-1\\\\\n",
        "1\n",
        "\\end{bmatrix}\n",
        "u \\\\\n",
        "y = \\begin{bmatrix}\n",
        "1 & 1 & 0 & 0\n",
        "\\end{bmatrix} x\n",
        "\\end{cases}\n",
        "$$\n",
        "\n",
        "where $n$ is your number in your group list (ask your TA to give you your number if you don't have one).\n",
        "\n",
        "\n",
        "\n",
        "1.   Find its transfer function representation ($y(s) / u(s) = W(s)$).\n",
        "1.   Propose an ODE representation of the system.\n",
        "1.   Propose a controller (control law $u = -Kx$) that makes the system stable. Do it via pole placement and as an LQR. For LQR show the cost function you chose.\n",
        "1.   Show stability of the closed-loop system via eigenvalue analysis.\n",
        "1.   Find stability margins by analysing Bode diagram for the system.\n",
        "1.   Simulate closed-loop system.\n",
        "1.   Modify the control law in such a way that the state of the system converges to $x_0 = \\begin{bmatrix}\n",
        "2+0.1n \\\\\n",
        "n-5 \\\\\n",
        "0 \\\\\n",
        "0\n",
        "\\end{bmatrix}$. Show resulting control law. Simulate the system and demostrate convergence via graphs of state dynamics and error dynamics.\n",
        "1. Discretize the system with $\\Delta t = 0.01$. Write equations of the discrete dinamics.\n",
        "1. Propose a control law for the discrete system via pole-placement and LQR (show cost function for the LQR).\n",
        "1. Show eigenvalue analisys of the slosed-loop dynamics of the discrete system (with the proposed discrete control law. Demonstrate stability.\n",
        "1. Simulate the discrete system. Show graphs.\n",
        "\n",
        "\n",
        "# Solution for $n$ = 10\n",
        "\n",
        "## Task 1\n",
        "Find its transfer function representation ($y(s) / u(s) = W(s)$).\n",
        "\n",
        "### Solution 1\n",
        " We have state space representation where :\n",
        "\n",
        "\n",
        "$\n",
        "A = \\begin{bmatrix}\n",
        "0 & 0 & 1 & 0 \\\\\n",
        "0 & 0 & 0 & 1 \\\\\n",
        " 10 & -2 & -1 & -2 \\\\\n",
        "-5 & -1 & 0 & -3\n",
        "\\end{bmatrix}, \\quad\n",
        "B = \\begin{bmatrix}\n",
        "0 \\\\\n",
        "0 \\\\\n",
        "-1\\\\\n",
        "1\n",
        "\\end{bmatrix}, \\quad\n",
        "C = \\begin{bmatrix}\n",
        "1 & 1 & 0 & 0\n",
        "\\end{bmatrix}, \\quad\n",
        "D = \\begin{bmatrix} 0 \\end{bmatrix}\n",
        "$\n",
        "\n",
        "For computing tranfer function : $$ W(s) = C(sI - A)^{-1}B + D$$\n",
        "\n",
        "\n",
        "Finding the inverse matrix:\n",
        "\n",
        "$\n",
        "sI - A =\n",
        "\\begin{bmatrix}\n",
        "s & 0 & -1 & 0 \\\\\n",
        "0 & s & 0 & -1 \\\\\n",
        " -10 & 2 & s+1 & 2 \\\\\n",
        "5 & 1 & 0 & s+3\n",
        "\\end{bmatrix}\n",
        "$\n",
        "\n",
        "The determinant is:\n",
        "\n",
        "\n",
        "$$\n",
        "\\det(sI - A) = s^4 + 4s^3 - 6s^2 - 39s - 20\n",
        "$$\n",
        "\n",
        "The inverse matrix:\n",
        "\n",
        "$$\n",
        "(sI - A)^{-1} \\;=\\; \\frac{1}{\\det(sI - A)}\\,\\mathrm{adj}\\bigl(sI - A\\bigr).\n",
        "$$\n",
        "\n",
        "  \n",
        "\n",
        "$$ \\mathrm{adj}\\bigl(sI - A\\bigr) =\n",
        "\\begin{pmatrix}\n",
        "s^3 + 4s^2 + 4s + 1 & -2(s + 2) & s^2 + 3s + 1 & -2(s + 1) \\\\[6pt]\n",
        "-5(s + 1) & s^3 + 4s^2 - 7s - 40 & -5 & s^2 + s - 10 \\\\[6pt]\n",
        "10(s^2 + 4s + 2) & -2(s^2 + 2s) & s^3 + 3s^2 + s & -2(s^2 + s) \\\\[6pt]\n",
        "-5(s^2 + s) & -s^2 + s + 20 & -5s & s^3 + s^2 - 10s\n",
        "\\end{pmatrix}\n",
        "$$\n",
        "\n",
        "The inverse matrix:\n",
        "\n",
        "$$\n",
        "(sI - A)^{-1} = \\frac{1}{s^4 + 4s^3 - 6s^2 - 39s - 20} \\begin{pmatrix}\n",
        "s^3 + 4s^2 + 4s + 1 & -2(s + 2) & s^2 + 3s + 1 & -2(s + 1) \\\\[6pt]\n",
        "-5(s + 1) & s^3 + 4s^2 - 7s - 40 & -5 & s^2 + s - 10 \\\\[6pt]\n",
        "10(s^2 + 4s + 2) & -2(s^2 + 2s) & s^3 + 3s^2 + s & -2(s^2 + s) \\\\[6pt]\n",
        "-5(s^2 + s) & -s^2 + s + 20 & -5s & s^3 + s^2 - 10s\n",
        "\\end{pmatrix}\n",
        "$$\n",
        "\n",
        "Multiply by B:\n",
        "\n",
        "$$\\frac{1}{\\,s^4 + 4s^3 - 6s^2 - 39s - 20\\,}\n",
        "\\begin{pmatrix}\n",
        "-\\,s^2 \\;-\\;5s \\;-\\;3\\\\[6pt]\n",
        "s^2 \\;+\\; s \\;-\\;5\\\\[6pt]\n",
        "-\\,s^3 \\;-\\;5\\,s^2 \\;-\\;3\\,s\\\\[6pt]\n",
        "s^3 \\;+\\; s^2 \\;-\\;5\\,s\n",
        "\\end{pmatrix}$$\n",
        "\n",
        "Multiply by C:\n",
        "\n",
        "$$\\frac{-4s-8}{\\,s^4 + 4s^3 - 6s^2 - 39s - 20\\,}\n",
        "$$\n",
        "\n",
        "### Answer 1\n",
        "Finaly we get transfer function:\n",
        "\n",
        "$$\n",
        "\\frac{-4s-8}{\\,s^4 + 4s^3 - 6s^2 - 39s - 20\\,}\n",
        "$$\n",
        "\n",
        "## Task 2\n",
        "\n",
        "Propose an ODE representation of the system\n",
        "\n",
        "### Solution 2\n",
        "\n",
        "\n",
        "### As we find transfer function from previous task\n",
        "\n",
        "$$\n",
        "W(s) = \\frac{Y(s)}{U(s)} = \\frac{-4s - 8}{s^4 + 4s^3 - 6s^2 - 39s - 20}\n",
        "$$\n",
        "\n",
        "### From Transfer Function to Differential Equation\n",
        "\n",
        "We use the rule:\n",
        "\n",
        "$$\n",
        "W(s) = \\frac{Y(s)}{U(s)} = \\frac{b_1 s + b_0}{s^4 + a_3 s^3 + a_2 s^2 + a_1 s + a_0}\n",
        "$$\n",
        "\n",
        "In the time domain, this corresponds to a differential equation of the form:\n",
        "\n",
        "$$\n",
        "y^{(4)} + a_3 y^{(3)} + a_2 \\ddot{y} + a_1 \\dot{y} + a_0 y = b_1 \\dot{u} + b_0 u\n",
        "$$\n",
        "\n",
        "### Substituting Coefficients\n",
        "\n",
        "From the transfer function:\n",
        "\n",
        "- Numerator:\n",
        "  $$\n",
        "  -4s - 8 \\quad \\Rightarrow \\quad b_1 = -4,\\quad b_0 = -8\n",
        "  $$\n",
        "- Denominator:\n",
        "  $$\n",
        "  s^4 + 4s^3 - 6s^2 - 39s - 20 \\quad \\Rightarrow \\quad a_3 = 4,\\quad a_2 = -6,\\quad a_1 = -39,\\quad a_0 = -20\n",
        "  $$\n",
        "\n",
        "### Final Differential Equation\n",
        "\n",
        "$$\n",
        "y^{(4)} + 4y^{(3)} - 6\\ddot{y} - 39\\dot{y} - 20y = -4\\dot{u} - 8u\n",
        "$$\n",
        "\n",
        "## Task 3\n",
        "\n",
        "Propose a controller (control law $u = -Kx$) that makes the system stable. Do it via pole placement and as an LQR. For LQR show the cost function you chose.\n",
        "\n",
        "### Solution 3\n",
        "\n",
        "Let's solve and find control law $u = -Kx$ using pole placement algorithm:\n",
        "\n",
        "We have $$A = \\begin{bmatrix}\n",
        "0 & 0 & 1 & 0 \\\\\n",
        "0 & 0 & 0 & 1 \\\\\n",
        " 10 & -2 & -1 & -2 \\\\\n",
        "-5 & -1 & 0 & -3\n",
        "\\end{bmatrix}, \\quad\n",
        "B = \\begin{bmatrix}\n",
        "0 \\\\\n",
        "0 \\\\\n",
        "-1\\\\\n",
        "1\n",
        "\\end{bmatrix}\n",
        "$$\n",
        "General system: $$\\dot x = Ax + Bu$$\n",
        "$$u = -Kx$$\n",
        "$$\\dot x = (A - BK)x$$\n",
        "\n",
        "For stable system (A - BK) must have eigenvalues <= 0.\n",
        "\n",
        "Let $λ= [−2,−3,−4,−5]$\n",
        "\n",
        "For computing control matrix I use python code:"
      ],
      "metadata": {
        "id": "jkpb8xiEzdwR"
      }
    },
    {
      "cell_type": "code",
      "source": [
        "import numpy as np\n",
        "from scipy.signal import place_poles\n",
        "\n",
        "A = np.array([[0, 0, 1, 0],\n",
        "              [0, 0, 0, 1],\n",
        "              [10, -2, -1, -2],\n",
        "              [-5, -1, 0, -3]])\n",
        "\n",
        "B = np.array([[0],\n",
        "              [0],\n",
        "              [-1],\n",
        "              [1]])\n",
        "\n",
        "\n",
        "poles = [-2, -3, -4, -5]\n",
        "\n",
        "\n",
        "place_obj = place_poles(A, B, poles)\n",
        "K = place_obj.gain_matrix\n",
        "\n",
        "print(\"K =\", K)\n"
      ],
      "metadata": {
        "colab": {
          "base_uri": "https://localhost:8080/"
        },
        "id": "vvaYL5HUH9ul",
        "outputId": "555ef920-55d9-4972-d47b-110c1589ea6f"
      },
      "execution_count": 2,
      "outputs": [
        {
          "output_type": "stream",
          "name": "stdout",
          "text": [
            "K = [[-33.75  -7.75 -10.25  -0.25]]\n"
          ]
        }
      ]
    },
    {
      "cell_type": "markdown",
      "source": [
        "Let's solve and find control law $u = -Kx$ using  LQR:\n",
        "\n",
        "The cost function minimized in LQR is:\n",
        "\n",
        "$$\n",
        "J = \\int_0^{\\infty} \\left( x^T Q x + u^T R u \\right) dt\n",
        "$$\n",
        "\n",
        "We can choose to penalize all state variables (full-state control), or we can focus only on the output we care about, which may help reduce energy usage and make the control more efficient.:\n",
        "$$y = \\begin{bmatrix}\n",
        "1 & 1 & 0 & 0\n",
        "\\end{bmatrix} x$$\n",
        "\n",
        "This means the output only depends on the combination $x_1+x_2$ and not on the rest of the state. So, we can choose to penalize only this output.\n",
        "\n",
        "\n",
        "$$\n",
        "  Q = C^T C =\n",
        "  \\begin{bmatrix}\n",
        "  1 & 1 & 0 & 0\n",
        "  \\end{bmatrix}^T\n",
        "  \\begin{bmatrix}\n",
        "  1 & 1 & 0 & 0\n",
        "  \\end{bmatrix}\n",
        "  =\n",
        "  \\begin{bmatrix}\n",
        "  1 & 1 & 0 & 0 \\\\\n",
        "  1 & 1 & 0 & 0 \\\\\n",
        "  0 & 0 & 0 & 0 \\\\\n",
        "  0 & 0 & 0 & 0\n",
        "  \\end{bmatrix}\n",
        "  $$\n",
        "\n",
        "  As we have only one input:\n",
        "  $$ R = \\begin{bmatrix}\n",
        "  1\n",
        "  \\end{bmatrix}$$\n",
        "\n",
        " Increasing the values in matrix\n",
        "$Q$ leads to faster convergence, as it places greater emphasis on minimizing state deviations, so we can increase values.\n",
        "\n",
        "Cost function computation:\n",
        "$$\n",
        "x^T Q x =\n",
        "\\begin{bmatrix}\n",
        "x_1 & x_2 & x_3 & x_4\n",
        "\\end{bmatrix}\n",
        "\\cdot\n",
        "\\begin{bmatrix}\n",
        "1 & 1 & 0 & 0 \\\\\n",
        "1 & 1 & 0 & 0 \\\\\n",
        "0 & 0 & 0 & 0 \\\\\n",
        "0 & 0 & 0 & 0\n",
        "\\end{bmatrix}\n",
        "\\cdot\n",
        "\\begin{bmatrix}\n",
        "x_1 \\\\\n",
        "x_2 \\\\\n",
        "x_3 \\\\\n",
        "x_4\n",
        "\\end{bmatrix}\n",
        "=\n",
        "x_1^2 + 2x_1 x_2 + x_2^2\n",
        "$$\n",
        "\n",
        "\n",
        "$$\n",
        "u^T R u = u^2\n",
        "$$\n",
        "\n",
        "Finaly:\n",
        "$$\n",
        "J = \\int_0^\\infty \\left( x_1^2 + 2x_1 x_2 + x_2^2 + u^2 \\right) dt\n",
        "$$\n",
        "\n",
        "\n",
        "I use python code for finding K and eiginevalues to be sure that system stable :"
      ],
      "metadata": {
        "id": "_oeP5gfyJySL"
      }
    },
    {
      "cell_type": "code",
      "source": [
        "\n",
        "from scipy.linalg import solve_continuous_are\n",
        "\n",
        "\n",
        "Q = np.array([[1, 1, 0, 0],\n",
        "              [1, 1, 0, 0],\n",
        "              [0, 0, 0, 0],\n",
        "              [0, 0, 0, 0]])\n",
        "\n",
        "R = np.array([[1]])\n",
        "\n",
        "A = np.array([[0, 0, 1, 0],\n",
        "              [0, 0, 0, 1],\n",
        "              [10, -2, -1, -2],\n",
        "              [-5, -1, 0, -3]])\n",
        "\n",
        "B = np.array([[0],\n",
        "              [0],\n",
        "              [-1],\n",
        "              [1]])\n",
        "\n",
        "\n",
        "\n",
        "S = solve_continuous_are(A, B, Q, R)\n",
        "\n",
        "\n",
        "K_lqr = np.linalg.inv(R) @ B.T @ S\n",
        "\n",
        "A_cl = A - B @ K_lqr\n",
        "eigvals = np.linalg.eigvals(A_cl)\n",
        "\n",
        "print(\"Eigenvalues of (A - BK):\", eigvals)\n",
        "\n",
        "print(\"K_lqr =\", K_lqr)\n"
      ],
      "metadata": {
        "colab": {
          "base_uri": "https://localhost:8080/"
        },
        "id": "aOSObjzS-gSx",
        "outputId": "e9aa3220-a0c7-43e2-ced6-63fb4dd4ff89"
      },
      "execution_count": 14,
      "outputs": [
        {
          "output_type": "stream",
          "name": "stdout",
          "text": [
            "Eigenvalues of (A - BK): [-0.62702679+0.j         -3.19503809+1.02747428j -3.19503809-1.02747428j\n",
            " -3.04987007+0.j        ]\n",
            "K_lqr = [[-17.27219148   2.05518304  -4.31940638   1.74756666]]\n"
          ]
        }
      ]
    },
    {
      "cell_type": "markdown",
      "source": [
        "As we can see - real part of all eigenvalues negative, so system with matrix Q and R as we choose is stable.\n",
        "\n",
        "## Task 4\n",
        "Show stability of the closed-loop system via eigenvalue analysis.\n",
        "\n",
        "### Solution 4\n",
        "In the previous task we know that system via pole placement is stable, cause we choose negative eigenvalues by ourself.\n",
        "\n",
        "For LQR we get matrix K. For show stability of closed-loop system we need to find eigenvalues of matrix $A_BK$ and if it real part negative - system stable. But in previous task I already done it. For Matrix Q and R $$Q =  \\begin{bmatrix}\n",
        "  1 & 1 & 0 & 0 \\\\\n",
        "  1 & 1 & 0 & 0 \\\\\n",
        "  0 & 0 & 0 & 0 \\\\\n",
        "  0 & 0 & 0 & 0\n",
        "  \\end{bmatrix}, \\quad\n",
        "  R =\n",
        "  \\begin{bmatrix}1\n",
        "  \\end{bmatrix}$$\n",
        "\n",
        "  I got eginevalues $$[λ_1 = -0.62702679+0.j,λ_2 = -3.19503809+1.02747428j,λ_3 = -3.19503809-1.02747428j, λ_4 = -3.04987007+0.j]$$\n",
        "\n",
        "  As we can see, real part of all $λ$ is negative, so our system is stable!\n",
        "\n",
        "\n",
        "  ## Task 5\n",
        "  Find stability margins by analysing Bode diagram for the system.\n",
        "\n",
        "  ### Solution 5\n"
      ],
      "metadata": {
        "id": "nRXogSWGtV3J"
      }
    },
    {
      "cell_type": "code",
      "source": [
        "!pip install control slycot"
      ],
      "metadata": {
        "id": "oqvQuTPsl2gO",
        "outputId": "071551f0-a1d4-460e-feff-eb4ce4f98ef2",
        "colab": {
          "base_uri": "https://localhost:8080/"
        }
      },
      "execution_count": 2,
      "outputs": [
        {
          "output_type": "stream",
          "name": "stdout",
          "text": [
            "Collecting control\n",
            "  Downloading control-0.10.1-py3-none-any.whl.metadata (7.6 kB)\n",
            "Collecting slycot\n",
            "  Downloading slycot-0.6.0.tar.gz (3.1 MB)\n",
            "\u001b[2K     \u001b[90m━━━━━━━━━━━━━━━━━━━━━━━━━━━━━━━━━━━━━━━━\u001b[0m \u001b[32m3.1/3.1 MB\u001b[0m \u001b[31m23.6 MB/s\u001b[0m eta \u001b[36m0:00:00\u001b[0m\n",
            "\u001b[?25h  Installing build dependencies ... \u001b[?25l\u001b[?25hdone\n",
            "  Getting requirements to build wheel ... \u001b[?25l\u001b[?25hdone\n",
            "  Preparing metadata (pyproject.toml) ... \u001b[?25l\u001b[?25hdone\n",
            "Requirement already satisfied: numpy>=1.23 in /usr/local/lib/python3.11/dist-packages (from control) (2.0.2)\n",
            "Requirement already satisfied: scipy>=1.8 in /usr/local/lib/python3.11/dist-packages (from control) (1.14.1)\n",
            "Requirement already satisfied: matplotlib>=3.6 in /usr/local/lib/python3.11/dist-packages (from control) (3.10.0)\n",
            "Requirement already satisfied: contourpy>=1.0.1 in /usr/local/lib/python3.11/dist-packages (from matplotlib>=3.6->control) (1.3.1)\n",
            "Requirement already satisfied: cycler>=0.10 in /usr/local/lib/python3.11/dist-packages (from matplotlib>=3.6->control) (0.12.1)\n",
            "Requirement already satisfied: fonttools>=4.22.0 in /usr/local/lib/python3.11/dist-packages (from matplotlib>=3.6->control) (4.56.0)\n",
            "Requirement already satisfied: kiwisolver>=1.3.1 in /usr/local/lib/python3.11/dist-packages (from matplotlib>=3.6->control) (1.4.8)\n",
            "Requirement already satisfied: packaging>=20.0 in /usr/local/lib/python3.11/dist-packages (from matplotlib>=3.6->control) (24.2)\n",
            "Requirement already satisfied: pillow>=8 in /usr/local/lib/python3.11/dist-packages (from matplotlib>=3.6->control) (11.1.0)\n",
            "Requirement already satisfied: pyparsing>=2.3.1 in /usr/local/lib/python3.11/dist-packages (from matplotlib>=3.6->control) (3.2.1)\n",
            "Requirement already satisfied: python-dateutil>=2.7 in /usr/local/lib/python3.11/dist-packages (from matplotlib>=3.6->control) (2.8.2)\n",
            "Requirement already satisfied: six>=1.5 in /usr/local/lib/python3.11/dist-packages (from python-dateutil>=2.7->matplotlib>=3.6->control) (1.17.0)\n",
            "Downloading control-0.10.1-py3-none-any.whl (549 kB)\n",
            "\u001b[2K   \u001b[90m━━━━━━━━━━━━━━━━━━━━━━━━━━━━━━━━━━━━━━━━\u001b[0m \u001b[32m549.6/549.6 kB\u001b[0m \u001b[31m27.8 MB/s\u001b[0m eta \u001b[36m0:00:00\u001b[0m\n",
            "\u001b[?25hBuilding wheels for collected packages: slycot\n",
            "  Building wheel for slycot (pyproject.toml) ... \u001b[?25l\u001b[?25hdone\n",
            "  Created wheel for slycot: filename=slycot-0.6.0-cp311-cp311-linux_x86_64.whl size=2020982 sha256=26b484740ceb08ac470fdc3fa06a4e9f628c34606927c70e416c5ca1fd595627\n",
            "  Stored in directory: /root/.cache/pip/wheels/d5/87/ac/940d8a47d96bfc14450a1ea8c348711fe370046f8b3976de7c\n",
            "Successfully built slycot\n",
            "Installing collected packages: slycot, control\n",
            "Successfully installed control-0.10.1 slycot-0.6.0\n"
          ]
        }
      ]
    },
    {
      "cell_type": "code",
      "source": [
        "import numpy as np\n",
        "import matplotlib.pyplot as plt\n",
        "import control\n",
        "\n",
        "num = [-4, -8]\n",
        "den = [1, 4, -6, -39, -20]\n",
        "\n",
        "\n",
        "W = control.tf(num, den)\n",
        "\n",
        "\n",
        "control.bode_plot(W, dB=True, deg=True, margins=True)\n",
        "plt.show()\n",
        "\n",
        "\n",
        "gm, pm, wg, wp = control.margin(W)\n",
        "print(\"Gain margin:\", gm)\n",
        "print(\"Phase margin:\", pm, \"degrees\")\n",
        "print(\"Gain crossover frequency:\", wg, \"rad/s\")\n",
        "print(\"Phase crossover frequency:\", wp, \"rad/s\")\n",
        "\n",
        "\n"
      ],
      "metadata": {
        "id": "5OV4wf24S_eR",
        "outputId": "dc7d9847-0458-4967-efba-4309bfa077a1",
        "colab": {
          "base_uri": "https://localhost:8080/",
          "height": 589
        }
      },
      "execution_count": 3,
      "outputs": [
        {
          "output_type": "stream",
          "name": "stderr",
          "text": [
            "/usr/local/lib/python3.11/dist-packages/control/config.py:363: FutureWarning: keyword 'margins' is deprecated; use 'display_margins'\n",
            "  warnings.warn(\n"
          ]
        },
        {
          "output_type": "display_data",
          "data": {
            "text/plain": [
              "<Figure size 640x480 with 2 Axes>"
            ],
            "image/png": "[encoded data removed]"
          },
          "metadata": {}
        },
        {
          "output_type": "stream",
          "name": "stdout",
          "text": [
            "Gain margin: inf\n",
            "Phase margin: inf degrees\n",
            "Gain crossover frequency: nan rad/s\n",
            "Phase crossover frequency: nan rad/s\n"
          ]
        }
      ]
    },
    {
      "cell_type": "markdown",
      "source": [
        "### Observations and Conclusions:\n",
        "\n",
        "Function of feedback is:\n",
        "$$\\frac{G(s)}{1 + G(s)}$$\n",
        "\n",
        "In result we have infinty in gain and phase margin, it means that system feedback tend to 1, hence system is stable. \"Nan\" means that the system never investigate 0 dB and -180 degrees."
      ],
      "metadata": {
        "id": "0XXvsy9uZ7T0"
      }
    },
    {
      "cell_type": "markdown",
      "source": [
        "## Task 6\n",
        "Simulate closed-loop system.\n",
        "\n",
        "### Solution 6\n",
        "\n",
        "For simulation closed-loop system let's find some initial state $x_0$ and then solve system  $$\\dot x(t) = (A-BK)x(t)$$\n",
        "\n",
        "Let's take matrix K from task 2 from LQR: $$K = \\begin{bmatrix} -17.27 &  2.06 &-4.32 & 1.75\\end{bmatrix}$$\n",
        "\n",
        "Let's $x_0 = \\begin{bmatrix} 1 &  0 &0 & 0\\end{bmatrix}$\n",
        "\n",
        "Simulation:"
      ],
      "metadata": {
        "id": "EN4IkyXult9u"
      }
    },
    {
      "cell_type": "code",
      "source": [
        "import numpy as np\n",
        "import matplotlib.pyplot as plt\n",
        "from scipy.integrate import solve_ivp\n",
        "\n",
        "\n",
        "A = np.array([[0, 0, 1, 0],\n",
        "              [0, 0, 0, 1],\n",
        "              [10, -2, -1, -2],\n",
        "              [-5, -1, 0, -3]])\n",
        "\n",
        "B = np.array([[0],\n",
        "              [0],\n",
        "              [-1],\n",
        "              [1]])\n",
        "\n",
        "K = np.array([[-17.27, 2.06, -4.32, 1.75]])\n",
        "\n",
        "\n",
        "A_cl = A - B @ K\n",
        "x0 = np.array([1, 0, 0, 0])\n",
        "\n",
        "t_span = (0, 10)\n",
        "t_eval = np.linspace(*t_span, 1000)\n",
        "\n",
        "\n",
        "def closed_loop_dynamics(t, x):\n",
        "    return A_cl @ x\n",
        "\n",
        "sol = solve_ivp(closed_loop_dynamics, t_span, x0, t_eval=t_eval)\n",
        "\n",
        "\n",
        "plt.figure(figsize=(10, 6))\n",
        "for i in range(sol.y.shape[0]):\n",
        "    plt.plot(sol.t, sol.y[i], label=f'$x_{i+1}(t)$')\n",
        "plt.title('Simulation system with closed loop system using LQR regulation')\n",
        "plt.xlabel('Time (s)')\n",
        "plt.ylabel('States')\n",
        "plt.grid(True)\n",
        "plt.legend()\n",
        "plt.tight_layout()\n",
        "plt.show()\n"
      ],
      "metadata": {
        "id": "PD75NEWjltpz",
        "outputId": "4484003a-744d-4006-b8da-738f6ebfb6b1",
        "colab": {
          "base_uri": "https://localhost:8080/",
          "height": 607
        }
      },
      "execution_count": 5,
      "outputs": [
        {
          "output_type": "display_data",
          "data": {
            "text/plain": [
              "<Figure size 1000x600 with 1 Axes>"
            ],
            "image/png": "[encoded data removed]"
          },
          "metadata": {}
        }
      ]
    },
    {
      "cell_type": "markdown",
      "source": [
        "## Task 7\n",
        "Modify the control law in such a way that the state of the system converges to $x_0 = \\begin{bmatrix}\n",
        "3 \\\\\n",
        "5 \\\\\n",
        "0 \\\\\n",
        "0\n",
        "\\end{bmatrix}$. Show resulting control law. Simulate the system and demostrate convergence via graphs of state dynamics and error dynamics.\n",
        "\n",
        "### Solution 7\n",
        "Modify the control law in such a way that the state of the system converges to\n",
        "$$\n",
        "x^* = \\begin{bmatrix}\n",
        "3 \\\\\n",
        "5 \\\\\n",
        "0 \\\\\n",
        "0\n",
        "\\end{bmatrix}\n",
        "$$\n",
        "\n",
        "### Control Law with Feedforward\n",
        "\n",
        "We define the control law:\n",
        "\n",
        "$$\n",
        "u = K(x^* - x) + u^*\n",
        "$$\n",
        "\n",
        "where:\n",
        "- $( x^* ) $is the desired state,\n",
        "- $( u^* $) is the feedforward term that ensures stationarity at $( x = x^* $).\n",
        "\n",
        "From the stationarity condition:\n",
        "$$\n",
        "Ax^* + Bu^* = 0 \\quad \\Rightarrow \\quad u^* = -B^+Ax^*\n",
        "$$\n",
        "\n",
        "where $( B^+ $) is the Moore–Penrose pseudoinverse of B\n",
        "\n",
        "Thus, the full control law becomes:\n",
        "\n",
        "$$\n",
        "u = K(x^* - x) - B^+Ax^*\n",
        "$$\n",
        "\n",
        "\n",
        "First, let's find $B^+$ and $u^*$\n",
        ""
      ],
      "metadata": {
        "id": "q5cdRkp2vzta"
      }
    },
    {
      "cell_type": "code",
      "source": [
        "\n",
        "\n",
        "A = np.array([[0, 0, 1, 0],\n",
        "              [0, 0, 0, 1],\n",
        "              [10, -2, -1, -2],\n",
        "              [-5, -1, 0, -3]])\n",
        "\n",
        "B = np.array([[0],\n",
        "              [0],\n",
        "              [-1],\n",
        "              [1]])\n",
        "\n",
        "n = 10\n",
        "x_star = np.array([[2 + 0.1 * n],\n",
        "                   [n - 5],\n",
        "                   [0],\n",
        "                   [0]])\n",
        "\n",
        "B_pinv = np.linalg.pinv(B)\n",
        "u_star = -B_pinv @ (A @ x_star)\n",
        "print(B_pinv)\n"
      ],
      "metadata": {
        "id": "O8M98Dosvy2C",
        "outputId": "8f4a5589-4ab2-4c32-addd-89482220a1d8",
        "colab": {
          "base_uri": "https://localhost:8080/"
        }
      },
      "execution_count": 12,
      "outputs": [
        {
          "output_type": "stream",
          "name": "stdout",
          "text": [
            "[[ 0.   0.  -0.5  0.5]]\n"
          ]
        }
      ]
    },
    {
      "cell_type": "markdown",
      "source": [
        "Now we need to determine matrix K. I take it from task 2 from LQR\n",
        "$$K = \\begin{bmatrix} -17.27 &  2.06 &-4.32 & 1.75\\end{bmatrix}$$\n",
        "\n",
        "Resulting control law:\n",
        "\n",
        "$$u = \\begin{bmatrix} -17.27 &  2.06 &-4.32 & 1.75\\end{bmatrix}(\\begin{bmatrix}\n",
        "3 \\\\\n",
        "5 \\\\\n",
        "0 \\\\\n",
        "0\n",
        "\\end{bmatrix} - x) - \\begin{bmatrix} 0 &  0 & -0.5 & 0.5\\end{bmatrix}\\begin{bmatrix}\n",
        "0 & 0 & 1 & 0 \\\\\n",
        "0 & 0 & 0 & 1 \\\\\n",
        " 10 & -2 & -1 & -2 \\\\\n",
        "-5 & -1 & 0 & -3\n",
        "\\end{bmatrix}\\begin{bmatrix}\n",
        "3 \\\\\n",
        "5 \\\\\n",
        "0 \\\\\n",
        "0\n",
        "\\end{bmatrix}$$"
      ],
      "metadata": {
        "id": "bywSqTTVzEp0"
      }
    },
    {
      "cell_type": "code",
      "source": [
        "K = np.array([[-17.27, 2.06, -4.32, 1.75]])\n",
        "\n",
        "\n",
        "A_cl = A - B @ K\n",
        "B_cl = B @ K @ x_star + B @ u_star\n",
        "\n",
        "def closed_loop_dynamics(t, x):\n",
        "    x = x.reshape((-1, 1))\n",
        "    dxdt = A_cl @ x + B_cl\n",
        "    return dxdt.flatten()\n",
        "\n",
        "\n",
        "x0 = np.array([1, 0, 0, 0])\n",
        "t_span = [0, 10]\n",
        "t_eval = np.linspace(t_span[0], t_span[1], 300)\n",
        "\n",
        "sol = solve_ivp(closed_loop_dynamics, t_span, x0, t_eval=t_eval)\n",
        "x_t = sol.y.T\n",
        "\n",
        "\n",
        "e_t = x_star.T - x_t\n",
        "\n",
        "plt.figure(figsize=(12, 5))\n",
        "plt.subplot(1, 2, 1)\n",
        "for i in range(4):\n",
        "    plt.plot(t_eval, x_t[:, i], label=f'x{i+1}(t)')\n",
        "plt.title(\"State x(t)\")\n",
        "plt.xlabel(\"Time [s]\")\n",
        "plt.ylabel(\"State\")\n",
        "plt.legend()\n",
        "plt.grid()\n",
        "\n",
        "plt.subplot(1, 2, 2)\n",
        "for i in range(4):\n",
        "    plt.plot(t_eval, e_t[:, i], label=f'e{i+1}(t)')\n",
        "plt.title(\"Control Error e(t) = x* - x(t)\")\n",
        "plt.xlabel(\"Time [s]\")\n",
        "plt.ylabel(\"Error\")\n",
        "plt.legend()\n",
        "plt.grid()\n",
        "\n",
        "\n",
        "plt.show()\n",
        "\n"
      ],
      "metadata": {
        "id": "1_B-hsXWzoSE",
        "outputId": "a2e6aae4-92c1-457c-c127-4c83bf4c35dd",
        "colab": {
          "base_uri": "https://localhost:8080/",
          "height": 487
        }
      },
      "execution_count": 11,
      "outputs": [
        {
          "output_type": "display_data",
          "data": {
            "text/plain": [
              "<Figure size 1200x500 with 2 Axes>"
            ],
            "image/png": "[encoded data removed]"
          },
          "metadata": {}
        }
      ]
    },
    {
      "cell_type": "markdown",
      "source": [
        "As result we can see that our states converge to $$x_0 = \\begin{bmatrix}\n",
        "3 \\\\\n",
        "5 \\\\\n",
        "0 \\\\\n",
        "0\n",
        "\\end{bmatrix} $$ and errors converge to 0"
      ],
      "metadata": {
        "id": "qFT5IrmQ3L8G"
      }
    },
    {
      "cell_type": "markdown",
      "source": [
        "## Task 8\n",
        "Discretize the system with  Δ𝑡=0.01 . Write equations of the discrete dinamics\n",
        "\n",
        "### Solution 8\n",
        "\n",
        "We convert the continuous-time system:\n",
        "\n",
        "$$\n",
        "\\dot{x}(t) = Ax(t) + Bu(t)\n",
        "$$\n",
        "\n",
        "into a discrete-time form:\n",
        "\n",
        "$$x_{k+1} = \\bar{A} x_k + \\bar{B} u_k$$\n",
        "\n",
        "$$\\bar{A} = A \\cdot \\Delta t + I, \\quad \\bar{B} = B \\cdot \\Delta t$$\n",
        "\n",
        "Where I - identity 4*4 matrix and Δ𝑡=0.01\n",
        "- Calculate matrix $\\bar{A}$\n",
        "\n",
        "$$\\bar{A} =\n",
        "\\begin{bmatrix}\n",
        "1 & 0 & 0.01 & 0 \\\\\n",
        "0 & 1 & 0 & 0.01 \\\\\n",
        "0.1 & -0.02 & 0.99 & -0.02 \\\\\n",
        "-0.05 & -0.01 & 0 & 0.97\n",
        "\\end{bmatrix}$$\n",
        "\n",
        "- Calculate matrix $\\bar{B}$\n",
        "\n",
        "$$\\bar{B} =\n",
        "\\begin{bmatrix}\n",
        "0 \\\\\n",
        "0 \\\\\n",
        "-0.01 \\\\\n",
        "0.01\n",
        "\\end{bmatrix}$$\n",
        "\n",
        "Discrete system $$x_{k+1} =\n",
        "\\begin{bmatrix}\n",
        "1 & 0 & 0.01 & 0 \\\\\n",
        "0 & 1 & 0 & 0.01 \\\\\n",
        "0.1 & -0.02 & 0.99 & -0.02 \\\\\n",
        "-0.05 & -0.01 & 0 & 0.97\n",
        "\\end{bmatrix} x_k +\n",
        "\\begin{bmatrix}\n",
        "0 \\\\\n",
        "0 \\\\\n",
        "-0.01 \\\\\n",
        "0.01\n",
        "\\end{bmatrix} u_k$$"
      ],
      "metadata": {
        "id": "9fLBkmil5GvW"
      }
    },
    {
      "cell_type": "markdown",
      "source": [],
      "metadata": {
        "id": "1n-1l1Uh_5jw"
      }
    },
    {
      "cell_type": "markdown",
      "source": [
        "## Task 9\n",
        "Propose a control law for the discrete system via pole-placement and LQR (show cost function for the LQR).\n",
        "\n",
        "### Solution 9\n",
        "\n",
        "Let's solve and find control law $u_k = -Kx_k$ using pole placement algorithm:\n",
        "\n",
        "We have $$A = \\begin{bmatrix}\n",
        "1 & 0 & 0.01 & 0 \\\\\n",
        "0 & 1 & 0 & 0.01 \\\\\n",
        "0.1 & -0.02 & 0.99 & -0.02 \\\\\n",
        "-0.05 & -0.01 & 0 & 0.97\n",
        "\\end{bmatrix}, \\quad\n",
        "B = \\begin{bmatrix}\n",
        "0 \\\\\n",
        "0 \\\\\n",
        "-0.01\\\\\n",
        "0.01\n",
        "\\end{bmatrix}\n",
        "$$\n",
        "General system: $$x_{k+1} = Ax_k + Bu_k$$\n",
        "$$u_k = -Kx_k$$\n",
        "$$ x_{k+1} = (A - BK)x_k$$\n",
        "\n",
        "\n",
        "\n",
        "Let $λ= [−2,−3,−4,−5]$\n",
        "\n",
        "$z = e^{Δ𝑡λ}$ in discrete system\n",
        "\n",
        "For stable system |z| < 1\n",
        "\n",
        "For computing control matrix I use python code:"
      ],
      "metadata": {
        "id": "hqT0o8mrBGfy"
      }
    },
    {
      "cell_type": "code",
      "source": [
        "import numpy as np\n",
        "from scipy.signal import place_poles\n",
        "\n",
        "A = np.array([[1, 0, 0.01, 0],\n",
        "              [0, 1, 0, 0.01],\n",
        "              [0.1, -0.02, 0.99, -0.02],\n",
        "              [-0.05, -0.01, 0, 0.97]])\n",
        "\n",
        "B = np.array([[0],\n",
        "              [0],\n",
        "              [-0.01],\n",
        "              [0.01]])\n",
        "\n",
        "\n",
        "z = [0.98, 0.97, 0.96, 0.95]\n",
        "\n",
        "\n",
        "place_obj = place_poles(A, B, z)\n",
        "K = place_obj.gain_matrix\n",
        "\n",
        "print(\"K =\", K)\n"
      ],
      "metadata": {
        "id": "ZgSTU-amG4rY",
        "outputId": "74c29432-a701-4834-df1f-65cebc1e20b4",
        "colab": {
          "base_uri": "https://localhost:8080/"
        }
      },
      "execution_count": 22,
      "outputs": [
        {
          "output_type": "stream",
          "name": "stdout",
          "text": [
            "K = [[-33.75  -7.75 -10.25  -0.25]]\n"
          ]
        }
      ]
    },
    {
      "cell_type": "markdown",
      "source": [
        "Matrix K for pole placament $$\n",
        "K = \\begin{bmatrix}\n",
        "-33.75 & -7.75 & 10.25 & -0.25\n",
        "\\end{bmatrix}\n",
        "$$\n",
        "\n",
        "Find matrix K via LQR\n",
        "\n",
        "For the discrete-time LQR problem, the cost function is given by:\n",
        "$$J = \\sum_{k=0}^{\\infty} \\left( x_k^T Q x_k + u_k^T R u_k \\right)$$"
      ],
      "metadata": {
        "id": "qpVzFggcO3H2"
      }
    },
    {
      "cell_type": "code",
      "source": [
        "\n",
        "from scipy.linalg import solve_discrete_are\n",
        "from numpy.linalg import inv\n",
        "\n",
        "A = np.array([\n",
        "    [1, 0, 0.01, 0],\n",
        "    [0, 1, 0, 0.01],\n",
        "    [0.1, -0.02, 0.99, -0.02],\n",
        "    [-0.05, -0.01, 0, 0.97]\n",
        "])\n",
        "\n",
        "B = np.array([\n",
        "    [0],\n",
        "    [0],\n",
        "    [-0.01],\n",
        "    [0.01]\n",
        "])\n",
        "\n",
        "\n",
        "Q = np.array([[1, 1, 0, 0],\n",
        "              [1, 1, 0, 0],\n",
        "              [0, 0, 0, 0],\n",
        "              [0, 0, 0, 0]])\n",
        "\n",
        "R = np.array([[1]])\n",
        "\n",
        "\n",
        "P = solve_discrete_are(A, B, Q, R)\n",
        "\n",
        "\n",
        "K = inv(B.T @ P @ B + R) @ (B.T @ P @ A)\n",
        "\n",
        "\n",
        "\n",
        "print(\"K =\", K)\n"
      ],
      "metadata": {
        "id": "0ygvNus2Q6ka",
        "outputId": "f2d39362-bef9-4fbf-fd93-ca680ccc03f7",
        "colab": {
          "base_uri": "https://localhost:8080/"
        }
      },
      "execution_count": 25,
      "outputs": [
        {
          "output_type": "stream",
          "name": "stdout",
          "text": [
            "K = [[-17.01783685   2.02943472  -4.25596283   1.72289941]]\n"
          ]
        }
      ]
    },
    {
      "cell_type": "markdown",
      "source": [
        "Matrix K for LQR $$\n",
        "K = \\begin{bmatrix}\n",
        "-17.02 & 2.03 & -4.25 & 1.72\n",
        "\\end{bmatrix}\n",
        "$$"
      ],
      "metadata": {
        "id": "_ewIXnusSg8P"
      }
    },
    {
      "cell_type": "markdown",
      "source": [
        "## Task 10\n",
        "Show eigenvalue analisys of the slosed-loop dynamics of the discrete system (with the proposed discrete control law). Demonstrate stability.\n",
        "\n",
        "### Solution 10\n",
        "\n",
        "\n",
        "The system is **stable** if all eigenvalues $ z_i $ of the matrix ( A - BK ) satisfy:\n",
        "\n",
        "$\n",
        "|z_i| < 1\n",
        "$"
      ],
      "metadata": {
        "id": "_4Ewn5LPSy9D"
      }
    },
    {
      "cell_type": "code",
      "source": [
        "\n",
        "from numpy.linalg import inv, eigvals\n",
        "\n",
        "A_cl = A - B @ K\n",
        "z = eigvals(A_cl)\n",
        "\n",
        "print(\"Eigenvalues (A - BK):\", z)\n",
        "\n"
      ],
      "metadata": {
        "id": "nmQeL1qHTksD",
        "outputId": "e96b6a33-928b-40b1-caf8-11fc86f850e1",
        "colab": {
          "base_uri": "https://localhost:8080/"
        }
      },
      "execution_count": 30,
      "outputs": [
        {
          "output_type": "stream",
          "name": "stdout",
          "text": [
            "Eigenvalues (A - BK): [0.9937306 +0.j         0.96802647+0.01026303j 0.96802647-0.01026303j\n",
            " 0.97042783+0.j        ]\n"
          ]
        }
      ]
    },
    {
      "cell_type": "markdown",
      "source": [
        "\n",
        "$$\n",
        "|0.9937| = 0.9937\n",
        "$$\n",
        "\n",
        "$$\n",
        "|0.9680 \\pm 0.0102j| \\approx \\sqrt{0.968^2 + 0.0102^2} \\approx 0.9681\n",
        "$$\n",
        "\n",
        "$$\n",
        "|0.9704| = 0.9704\n",
        "$$\n",
        "\n",
        "All moduls are **less than 1**, so the system is **stable**"
      ],
      "metadata": {
        "id": "EkQgP3TDVLbQ"
      }
    }
  ]
}